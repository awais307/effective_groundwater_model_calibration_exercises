{
 "cells": [
  {
   "cell_type": "markdown",
   "metadata": {},
   "source": [
    "# Effective Groundwater Model Calibration"
   ]
  },
  {
   "cell_type": "markdown",
   "metadata": {},
   "source": [
    "## Imports"
   ]
  },
  {
   "cell_type": "code",
   "execution_count": 1,
   "metadata": {},
   "outputs": [],
   "source": [
    "import flopy\n",
    "import os\n",
    "import sys\n",
    "import numpy as np\n",
    "import matplotlib.pyplot as plt"
   ]
  },
  {
   "cell_type": "markdown",
   "metadata": {},
   "source": [
    "# Conceptual Model"
   ]
  },
  {
   "cell_type": "markdown",
   "metadata": {},
   "source": [
    "![title](img/conceptual_model_1.png)"
   ]
  },
  {
   "cell_type": "markdown",
   "metadata": {},
   "source": [
    "![title](img/conceptual_model_2.png)"
   ]
  },
  {
   "cell_type": "markdown",
   "metadata": {},
   "source": [
    "![title](img/conceptual_model_3.png)"
   ]
  },
  {
   "cell_type": "markdown",
   "metadata": {},
   "source": [
    "## Steady-State model setup \n",
    "\n",
    "We are creating a square model with:\n",
    "\n",
    "* 2 layers\n",
    "* 18 rows\n",
    "* 18 columns\n",
    "* GHB-Boundary (right side) \n",
    "* RIV-Boundary (left side)"
   ]
  },
  {
   "cell_type": "markdown",
   "metadata": {},
   "source": [
    "### Set workspace for steady-state model\n",
    "\n",
    "* and make shure that directory exists  \n",
    "* save the starting path\n",
    "* change to the working directory"
   ]
  },
  {
   "cell_type": "code",
   "execution_count": 2,
   "metadata": {},
   "outputs": [],
   "source": [
    "workspace = os.path.join('steady-state')\n",
    "\n",
    "if not os.path.exists(workspace):\n",
    "    os.makedirs(workspace)\n",
    "    \n",
    "cwdpth = os.getcwd()\n",
    "\n",
    "os.chdir(workspace)"
   ]
  },
  {
   "cell_type": "markdown",
   "metadata": {},
   "source": [
    "### Create the MODFLOW model \n",
    "Store it (in this case in the variable `ml`, but you can call it whatever you want).  \n",
    "The modelname will be the name given to all MODFLOW files (input and output).  \n",
    "The exe_name should be the full path to your MODFLOW executable.  The version is either 'mf2k' for MODFLOW2000 or 'mf2005'for MODFLOW2005."
   ]
  },
  {
   "cell_type": "code",
   "execution_count": 3,
   "metadata": {},
   "outputs": [],
   "source": [
    "name = 'steady-state'\n",
    "\n",
    "ml = flopy.modflow.Modflow(\n",
    "    modelname=name, \n",
    "    exe_name='mf2005',\n",
    "    version='mf2005'\n",
    ")"
   ]
  },
  {
   "cell_type": "markdown",
   "metadata": {},
   "source": [
    "### Discretization\n",
    "\n",
    "We are defining all kind of discretization parameters.  \n",
    "\n",
    "As we have a confining bed between top- and bottom-layer we have to specify  \n",
    "the botm-parameter with three layer values `[50, 40, -10]` and set the   \n",
    "laycbd-parameter with a flag (important: the flag must be 1) on the first layer `[1, 0]`\n",
    "\n",
    "\n"
   ]
  },
  {
   "cell_type": "code",
   "execution_count": 4,
   "metadata": {},
   "outputs": [],
   "source": [
    "nlay = 2\n",
    "nrow = ncol = 18\n",
    "L = W = 18000\n",
    "delr = L/nrow \n",
    "delc = W/ncol\n",
    "top = 100\n",
    "botm = [50, 40, -10]\n",
    "laycbd = [1, 0]\n",
    "itmuni = 1  # seconds"
   ]
  },
  {
   "cell_type": "code",
   "execution_count": 5,
   "metadata": {},
   "outputs": [],
   "source": [
    "dis = flopy.modflow.ModflowDis(\n",
    "    ml, \n",
    "    nlay=nlay, \n",
    "    nrow=nrow, \n",
    "    ncol=ncol, \n",
    "    delr=delr,\n",
    "    delc=delc, \n",
    "    top=top, \n",
    "    botm=botm, \n",
    "    laycbd=laycbd,\n",
    "    itmuni=itmuni\n",
    ")"
   ]
  },
  {
   "cell_type": "markdown",
   "metadata": {},
   "source": [
    "### BAS-Package \n",
    "\n",
    "Specify boundary conditions and starting heads. \n",
    "\n",
    "We can set one value for all cells.\n"
   ]
  },
  {
   "cell_type": "code",
   "execution_count": 6,
   "metadata": {},
   "outputs": [],
   "source": [
    "ibound = 1\n",
    "strt = 200\n",
    "\n",
    "bas = flopy.modflow.ModflowBas(ml, ibound=ibound, strt=strt)"
   ]
  },
  {
   "cell_type": "markdown",
   "metadata": {},
   "source": [
    "### LPF-Package\n",
    "The aquifer properties (really only the hydraulic conductivity) are defined with the LPF package."
   ]
  },
  {
   "cell_type": "code",
   "execution_count": 7,
   "metadata": {},
   "outputs": [],
   "source": [
    "hk = [1E-4, 1E-5]\n",
    "vkcb = 1E-7\n",
    "\n",
    "lpf = flopy.modflow.ModflowLpf(ml, hk=hk, vkcb=vkcb)"
   ]
  },
  {
   "cell_type": "markdown",
   "metadata": {},
   "source": [
    "### PCG-Package and OC-Package\n",
    "Finally, we need to specify the solver we want to use (PCG with default values), and the output control (using the default values).  \n",
    "\n",
    "Then we are ready to write all MODFLOW input files and run MODFLOW."
   ]
  },
  {
   "cell_type": "code",
   "execution_count": 8,
   "metadata": {},
   "outputs": [
    {
     "name": "stdout",
     "output_type": "stream",
     "text": [
      "FloPy is using the following executable to run the model: /usr/local/bin/mf2005\n",
      "\n",
      "                                  MODFLOW-2005     \n",
      "    U.S. GEOLOGICAL SURVEY MODULAR FINITE-DIFFERENCE GROUND-WATER FLOW MODEL\n",
      "                             Version 1.11.00 8/8/2013                        \n",
      "\n",
      " Using NAME file: steady-state.nam \n",
      " Run start date and time (yyyy/mm/dd hh:mm:ss): 2018/05/28 10:57:59\n",
      "\n",
      " Solving:  Stress period:     1    Time step:     1    Ground-Water Flow Eqn.\n",
      " Run end date and time (yyyy/mm/dd hh:mm:ss): 2018/05/28 10:57:59\n",
      " Elapsed run time:  0.005 Seconds\n",
      "\n",
      "  Normal termination of simulation\n"
     ]
    },
    {
     "data": {
      "text/plain": [
       "(True, [])"
      ]
     },
     "execution_count": 8,
     "metadata": {},
     "output_type": "execute_result"
    }
   ],
   "source": [
    "pcg = flopy.modflow.ModflowPcg(ml)\n",
    "oc = flopy.modflow.ModflowOc(ml)\n",
    "ml.write_input()\n",
    "ml.run_model()"
   ]
  },
  {
   "cell_type": "markdown",
   "metadata": {},
   "source": [
    "### Read the heads-file"
   ]
  },
  {
   "cell_type": "code",
   "execution_count": 9,
   "metadata": {},
   "outputs": [
    {
     "name": "stdout",
     "output_type": "stream",
     "text": [
      "<flopy.utils.binaryfile.HeadFile object at 0x7ff3c0e37e10>\n"
     ]
    }
   ],
   "source": [
    "os.chdir(cwdpth)\n",
    "hds = flopy.utils.HeadFile(os.path.join(workspace, name + '.hds'))"
   ]
  },
  {
   "cell_type": "code",
   "execution_count": 11,
   "metadata": {},
   "outputs": [],
   "source": [
    "h = hds.get_data(kstpkper=(0, 0))\n",
    "x = y = np.linspace(0, delr * nrow, nrow)"
   ]
  },
  {
   "cell_type": "code",
   "execution_count": null,
   "metadata": {},
   "outputs": [],
   "source": [
    "%matplotlib inline\n",
    "c = plt.contour(x, y, h[0], np.arange(90, 100.1, 0.2))\n",
    "plt.clabel(c, fmt='%1.1f')\n",
    "plt.axis('scaled')\n",
    "plt.show()"
   ]
  }
 ],
 "metadata": {
  "kernelspec": {
   "display_name": "Python 3",
   "language": "python",
   "name": "python3"
  },
  "language_info": {
   "codemirror_mode": {
    "name": "ipython",
    "version": 3
   },
   "file_extension": ".py",
   "mimetype": "text/x-python",
   "name": "python",
   "nbconvert_exporter": "python",
   "pygments_lexer": "ipython3",
   "version": "3.5.3"
  }
 },
 "nbformat": 4,
 "nbformat_minor": 2
}
