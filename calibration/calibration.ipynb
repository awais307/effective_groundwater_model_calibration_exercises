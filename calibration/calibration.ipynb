{
 "cells": [
  {
   "cell_type": "markdown",
   "metadata": {},
   "source": [
    "# Calibration of groundwater models"
   ]
  },
  {
   "cell_type": "markdown",
   "metadata": {},
   "source": [
    "Based on researches from Jana Glass, see word document.  \n",
    "Uses the given Head-Observation-File `./calibration.hob_out`"
   ]
  },
  {
   "cell_type": "code",
   "execution_count": 1,
   "metadata": {},
   "outputs": [],
   "source": [
    "import numpy as np"
   ]
  },
  {
   "cell_type": "markdown",
   "metadata": {},
   "source": [
    "### Read the head-observation output file"
   ]
  },
  {
   "cell_type": "markdown",
   "metadata": {},
   "source": [
    "Let's create temporarily lists for simulated and observed values"
   ]
  },
  {
   "cell_type": "code",
   "execution_count": 2,
   "metadata": {},
   "outputs": [],
   "source": [
    "f = open('./calibration.hob_out', 'r')\n",
    "\n",
    "header = False\n",
    "\n",
    "names = [] \n",
    "observed = [] \n",
    "simulated = []\n",
    "\n",
    "for line in f:\n",
    "    if line.startswith('#'):\n",
    "        continue\n",
    "    \n",
    "    if header == False:\n",
    "        header = line.split('\"')[1::2]\n",
    "        continue\n",
    "        \n",
    "    values = line.split()\n",
    "    simulated.append(float(values[0]))\n",
    "    observed.append(float(values[1]))\n",
    "    names.append('_'.join(values[2].split('_')[:-1]))\n",
    "    \n",
    "    \n",
    "simulated = np.array(simulated)\n",
    "observed = np.array(observed)"
   ]
  },
  {
   "cell_type": "markdown",
   "metadata": {},
   "source": [
    "## Calculate statistics"
   ]
  },
  {
   "cell_type": "markdown",
   "metadata": {},
   "source": [
    "### Number of data points n\n"
   ]
  },
  {
   "cell_type": "code",
   "execution_count": 3,
   "metadata": {},
   "outputs": [
    {
     "name": "stdout",
     "output_type": "stream",
     "text": [
      "288\n"
     ]
    }
   ],
   "source": [
    "n = len(simulated)\n",
    "print (n)"
   ]
  },
  {
   "cell_type": "markdown",
   "metadata": {},
   "source": [
    "### Maximum residual (rMax)"
   ]
  },
  {
   "cell_type": "code",
   "execution_count": 4,
   "metadata": {},
   "outputs": [
    {
     "name": "stdout",
     "output_type": "stream",
     "text": [
      "3.4412841796\n"
     ]
    }
   ],
   "source": [
    "rMax = np.max(np.abs(simulated-observed))\n",
    "print(rMax)"
   ]
  },
  {
   "cell_type": "markdown",
   "metadata": {},
   "source": [
    "### Minimum residual (rMin)"
   ]
  },
  {
   "cell_type": "code",
   "execution_count": 5,
   "metadata": {},
   "outputs": [
    {
     "name": "stdout",
     "output_type": "stream",
     "text": [
      "0.006655216219999982\n"
     ]
    }
   ],
   "source": [
    "rMin = np.min(np.abs(simulated-observed))\n",
    "print(rMin)"
   ]
  },
  {
   "cell_type": "markdown",
   "metadata": {},
   "source": [
    "### Residual mean (rMean)"
   ]
  },
  {
   "cell_type": "code",
   "execution_count": 6,
   "metadata": {},
   "outputs": [
    {
     "name": "stdout",
     "output_type": "stream",
     "text": [
      "-0.37619232149534787\n"
     ]
    }
   ],
   "source": [
    "rMean = np.mean(simulated-observed)\n",
    "print(rMean)"
   ]
  },
  {
   "cell_type": "markdown",
   "metadata": {},
   "source": [
    "### Absolute residual mean (arMean)"
   ]
  },
  {
   "cell_type": "code",
   "execution_count": 7,
   "metadata": {},
   "outputs": [
    {
     "name": "stdout",
     "output_type": "stream",
     "text": [
      "1.0508644575506798\n"
     ]
    }
   ],
   "source": [
    "arMean = np.mean(abs(simulated-observed))\n",
    "print(arMean)"
   ]
  },
  {
   "cell_type": "markdown",
   "metadata": {},
   "source": [
    "### Standard error of the estimate SSE"
   ]
  },
  {
   "cell_type": "code",
   "execution_count": 8,
   "metadata": {},
   "outputs": [
    {
     "name": "stdout",
     "output_type": "stream",
     "text": [
      "0.07416341705564417\n"
     ]
    }
   ],
   "source": [
    "from scipy import stats\n",
    "\n",
    "sse = stats.sem(simulated-observed)\n",
    "print(sse)"
   ]
  },
  {
   "cell_type": "markdown",
   "metadata": {},
   "source": [
    "### Root Mean Sqared Error RMSE"
   ]
  },
  {
   "cell_type": "code",
   "execution_count": 9,
   "metadata": {},
   "outputs": [
    {
     "name": "stdout",
     "output_type": "stream",
     "text": [
      "1.3115188256296897\n"
     ]
    }
   ],
   "source": [
    "rmse = np.sqrt(((simulated-observed) ** 2).mean())\n",
    "print(rmse)"
   ]
  },
  {
   "cell_type": "markdown",
   "metadata": {},
   "source": [
    "### Normalized Root Mean Sqared Error RMSE"
   ]
  },
  {
   "cell_type": "code",
   "execution_count": 10,
   "metadata": {},
   "outputs": [
    {
     "name": "stdout",
     "output_type": "stream",
     "text": [
      "0.048164481260051156\n"
     ]
    }
   ],
   "source": [
    "nrmse = rmse / (np.max(observed) - np.min(observed))\n",
    "print(nrmse)"
   ]
  },
  {
   "cell_type": "markdown",
   "metadata": {},
   "source": [
    "### Correlation Coefficient R (Pearson)"
   ]
  },
  {
   "cell_type": "code",
   "execution_count": 11,
   "metadata": {},
   "outputs": [
    {
     "name": "stdout",
     "output_type": "stream",
     "text": [
      "0.9925449039129356\n"
     ]
    }
   ],
   "source": [
    "R = stats.pearsonr(observed, simulated)[0]\n",
    "print(R)"
   ]
  },
  {
   "cell_type": "markdown",
   "metadata": {},
   "source": [
    "### Coefficient of Determination R2"
   ]
  },
  {
   "cell_type": "code",
   "execution_count": 12,
   "metadata": {},
   "outputs": [
    {
     "name": "stdout",
     "output_type": "stream",
     "text": [
      "0.9694114022467805\n"
     ]
    }
   ],
   "source": [
    "from sklearn.metrics import r2_score\n",
    "\n",
    "print(r2_score(observed, simulated))"
   ]
  },
  {
   "cell_type": "markdown",
   "metadata": {},
   "source": [
    "## Plot simulated vs. observed values"
   ]
  },
  {
   "attachments": {},
   "cell_type": "markdown",
   "metadata": {},
   "source": [
    "__Done__\n",
    "\n",
    "* Plot simulated on y-axis, observed heads on x-axis\n",
    "* Automatic scale for x- and y-axis\n",
    "* Plot every well with different color\n",
    "* Include Line of equality (1:1)\n",
    "\n",
    "\n",
    "__Todo__\n",
    "\n",
    "* Include in plot: off/on for different wells"
   ]
  },
  {
   "cell_type": "code",
   "execution_count": 13,
   "metadata": {},
   "outputs": [
    {
     "name": "stdout",
     "output_type": "stream",
     "text": [
      "(0.23021912922051466, 0.5221655137701811)\n"
     ]
    },
    {
     "data": {
      "image/png": "[encoded data removed]",
      "text/plain": [
       "<Figure size 432x288 with 1 Axes>"
      ]
     },
     "metadata": {},
     "output_type": "display_data"
    }
   ],
   "source": [
    "import matplotlib.pyplot as plt\n",
    "import itertools\n",
    "%matplotlib inline\n",
    "\n",
    "colors = itertools.cycle(['b', 'g', 'r', 'c', 'm', 'y', 'k'])\n",
    "\n",
    "current_name = names[0]\n",
    "last_index = 0\n",
    "\n",
    "for index, name in enumerate(names):\n",
    "    if current_name == name:\n",
    "        continue\n",
    "    \n",
    "    plt.scatter(\n",
    "        observed[last_index:index], \n",
    "        simulated[last_index:index],\n",
    "        color=next(colors)\n",
    "    )\n",
    "    \n",
    "    last_index = index\n",
    "    current_name = name\n",
    "    \n",
    "plt.plot(\n",
    "    [np.min(observed), np.max(observed)], \n",
    "    [np.min(simulated), np.max(simulated)],\n",
    "    'k-'\n",
    ")\n",
    "\n",
    "ci = stats.t.interval(\n",
    "    0.95, \n",
    "    len((observed - simulated))-1, \n",
    "    loc=np.mean((observed - simulated)), \n",
    "    scale=stats.sem((observed - simulated))\n",
    ")\n",
    "\n",
    "\n",
    "print(ci)\n",
    "\n",
    "plt.show()"
   ]
  }
 ],
 "metadata": {
  "kernelspec": {
   "display_name": "Python 3",
   "language": "python",
   "name": "python3"
  },
  "language_info": {
   "codemirror_mode": {
    "name": "ipython",
    "version": 3
   },
   "file_extension": ".py",
   "mimetype": "text/x-python",
   "name": "python",
   "nbconvert_exporter": "python",
   "pygments_lexer": "ipython3",
   "version": "3.5.3"
  }
 },
 "nbformat": 4,
 "nbformat_minor": 2
}
